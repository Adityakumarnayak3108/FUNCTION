{
  "nbformat": 4,
  "nbformat_minor": 0,
  "metadata": {
    "colab": {
      "provenance": []
    },
    "kernelspec": {
      "name": "python3",
      "display_name": "Python 3"
    },
    "language_info": {
      "name": "python"
    }
  },
  "cells": [
    {
      "cell_type": "markdown",
      "source": [
        "# Function"
      ],
      "metadata": {
        "id": "-wLZfKGPdujl"
      }
    },
    {
      "cell_type": "markdown",
      "source": [
        "1.Difference between a function and a method in Python\n",
        "\n",
        "  - A function is a block of reusable code defined using def.\n",
        "\n",
        "  A method is like a function but is associated with objects (defined in a class).\n",
        "  Example:\n",
        "\n",
        "  python\n",
        "\n",
        "  def greet():  # Function\n",
        "    print(\"Hello\")\n",
        "\n",
        "class Person:\n",
        "\n",
        "    def say_hello(self):  # Method\n",
        "        print(\"Hi\")\n",
        "2. Function arguments and parameters\n",
        "\n",
        "  - Parameter is the variable in the function definition.\n",
        "\n",
        "    Argument is the actual value passed to the function when calling it.\n",
        "    Example:\n",
        "\n",
        "  def add(x, y):  # x and y are parameters\n",
        "\n",
        "    return x + y\n",
        "\n",
        "add(3, 5)  # 3 and 5 are arguments\n",
        "3. Ways to define and call a function\n",
        "\n",
        "- Define: using def or lambda.\n",
        "\n",
        "    Call: by writing the function name followed by parentheses.\n",
        "    Example:\n",
        "\n",
        "\n",
        "    def square(n): return n * n\n",
        "    square(4)\n",
        "\n",
        "    double = lambda x: x * 2\n",
        "    double(5)\n",
        "4. Purpose of the return statement\n",
        "\n",
        "  - It is used to send back a result from a function.\n",
        "    Example:\n",
        "\n",
        "\n",
        "    def add(a, b):\n",
        "    return a + b\n",
        "5. Iterators vs Iterables\n",
        "\n",
        "Iterable: Can be looped over (like lists, tuples).\n",
        "\n",
        "Iterator: An object with __next__() and __iter__() methods.\n",
        "    Example:\n",
        "\n",
        "    lst = [1, 2, 3]  # Iterable\n",
        "    it = iter(lst)   # Iterator\n",
        "    print(next(it))\n",
        "6. Generators and how they are defined\n",
        "\n",
        "    Special iterators that yield values one at a time using yield.\n",
        "    Example:\n",
        "\n",
        "    def count_up_to(n):\n",
        "    i = 1\n",
        "    while i <= n:\n",
        "        yield i\n",
        "        i += 1\n",
        "7. Advantages of generators over regular functions\n",
        "\n",
        "    - Memory efficient, since they yield one value at a time.\n",
        "\n",
        "      Great for working with large data streams or files.\n",
        "\n",
        "8. Lambda function and usage\n",
        "\n",
        "    Anonymous function defined with lambda. Used for short, simple tasks.\n",
        "Example:\n",
        "\n",
        "    square = lambda x: x * x\n",
        "9. Purpose of map() function\n",
        "\n",
        "  - Applies a function to every item in an iterable.\n",
        "    Example:\n",
        "\n",
        "    nums = [1, 2, 3]\n",
        "\n",
        "    result = list(map(lambda x: x * 2, nums))\n",
        "10. Difference between map(), reduce(), and filter()\n",
        "\n",
        "map(): Transforms each element.\n",
        "\n",
        "filter(): Filters elements by condition.\n",
        "\n",
        "reduce(): Aggregates elements (requires functools).\n",
        "Example:\n",
        "\n",
        "\n",
        "from functools import reduce\n",
        "reduce(lambda x, y: x + y, [1, 2, 3])  # 6\n",
        "filter(lambda x: x % 2 == 0, [1, 2, 3])\n",
        "map(lambda x: x * x, [1, 2, 3])\n",
        "11.  Question 11  \n",
        "- Reduce sum operation on list [47,11,42,13]\n",
        "\n",
        "    from functools import reduce\n",
        "    nums = [47, 11, 42, 13]\n",
        "    result = reduce(lambda x, y: x + y, nums)\n",
        "\n",
        "Steps:\n",
        "\n",
        "47 + 11 = 58\n",
        "\n",
        "58 + 42 = 100\n",
        "\n",
        "100 + 13 = 113\n",
        " Answer: 113\n"
      ],
      "metadata": {
        "id": "pS6xcn_gd1GB"
      }
    },
    {
      "cell_type": "markdown",
      "source": [
        "#practical\n"
      ],
      "metadata": {
        "id": "VGPoRCubgeEl"
      }
    },
    {
      "cell_type": "code",
      "source": [
        "'''\n",
        "1. Sum of all even numbers\n",
        "\n",
        "'''\n",
        "def sum_even_numbers(lst):\n",
        "    return sum(num for num in lst if num % 2 == 0)\n",
        "\n",
        "# Example usage\n",
        "print(sum_even_numbers([1, 2, 3, 4, 5, 6]))  # Output: 12\n",
        "\n"
      ],
      "metadata": {
        "colab": {
          "base_uri": "https://localhost:8080/"
        },
        "id": "ZX5hGNlVgjc4",
        "outputId": "8e7747c0-9973-4665-a81c-156c32210882"
      },
      "execution_count": 6,
      "outputs": [
        {
          "output_type": "stream",
          "name": "stdout",
          "text": [
            "12\n"
          ]
        }
      ]
    },
    {
      "cell_type": "code",
      "source": [
        "'''\n",
        "2.Reverse a string\n",
        "'''\n",
        "def reverse_string(s):\n",
        "    return s[::-1]\n",
        "\n",
        "# Example usage\n",
        "print(reverse_string(\"hello\"))  # Output: 'olleh'\n",
        "\n"
      ],
      "metadata": {
        "colab": {
          "base_uri": "https://localhost:8080/"
        },
        "id": "eCyXjrH9g0IA",
        "outputId": "d4ced625-7f9c-40ab-d2f1-751cd05b32a2"
      },
      "execution_count": 8,
      "outputs": [
        {
          "output_type": "stream",
          "name": "stdout",
          "text": [
            "olleh\n"
          ]
        }
      ]
    },
    {
      "cell_type": "code",
      "source": [
        "'''\n",
        "3.Return squares of each number in a list\n",
        "'''\n",
        "def square_list(nums):\n",
        "    return [x ** 2 for x in nums]\n",
        "\n",
        "# Example usage\n",
        "print(square_list([1, 2, 3]))  # Output: [1, 4, 9]\n"
      ],
      "metadata": {
        "colab": {
          "base_uri": "https://localhost:8080/"
        },
        "id": "TX-UJX45g5L7",
        "outputId": "ac3dd109-4935-4712-a52f-919dfbc4ad8c"
      },
      "execution_count": 9,
      "outputs": [
        {
          "output_type": "stream",
          "name": "stdout",
          "text": [
            "[1, 4, 9]\n"
          ]
        }
      ]
    },
    {
      "cell_type": "code",
      "source": [
        "'''\n",
        " 4. Check and print prime numbers from 1 to 200\n",
        "'''\n",
        "def is_prime(n):\n",
        "    if n <= 1:\n",
        "        return False\n",
        "    for i in range(2, int(n**0.5)+1):\n",
        "        if n % i == 0:\n",
        "            return False\n",
        "    return True\n",
        "\n",
        "# Print primes from 1 to 200\n",
        "primes = [i for i in range(1, 201) if is_prime(i)]\n",
        "print(primes)\n"
      ],
      "metadata": {
        "colab": {
          "base_uri": "https://localhost:8080/"
        },
        "id": "zE36CSh-hUWc",
        "outputId": "85944e81-1af9-4775-a46d-c40fa4baf364"
      },
      "execution_count": 10,
      "outputs": [
        {
          "output_type": "stream",
          "name": "stdout",
          "text": [
            "[2, 3, 5, 7, 11, 13, 17, 19, 23, 29, 31, 37, 41, 43, 47, 53, 59, 61, 67, 71, 73, 79, 83, 89, 97, 101, 103, 107, 109, 113, 127, 131, 137, 139, 149, 151, 157, 163, 167, 173, 179, 181, 191, 193, 197, 199]\n"
          ]
        }
      ]
    },
    {
      "cell_type": "code",
      "source": [
        "'''\n",
        "5. Iterator class for Fibonacci sequence\n",
        "'''\n",
        "class Fibonacci:\n",
        "    def __init__(self, max_terms):\n",
        "        self.max_terms = max_terms\n",
        "        self.a, self.b = 0, 1\n",
        "        self.count = 0\n",
        "\n",
        "    def __iter__(self):\n",
        "        return self\n",
        "\n",
        "    def __next__(self):\n",
        "        if self.count >= self.max_terms:\n",
        "            raise StopIteration\n",
        "        result = self.a\n",
        "        self.a, self.b = self.b, self.a + self.b\n",
        "        self.count += 1\n",
        "        return result\n",
        "\n",
        "# Example usage\n",
        "fib = Fibonacci(10)\n",
        "for num in fib:\n",
        "    print(num, end=\" \")\n"
      ],
      "metadata": {
        "colab": {
          "base_uri": "https://localhost:8080/"
        },
        "id": "8BxIWvnchUhX",
        "outputId": "71996a9b-53fe-4066-f089-ae949eccae8b"
      },
      "execution_count": 11,
      "outputs": [
        {
          "output_type": "stream",
          "name": "stdout",
          "text": [
            "0 1 1 2 3 5 8 13 21 34 "
          ]
        }
      ]
    },
    {
      "cell_type": "code",
      "source": [
        "'''\n",
        " 6. Generator for powers of 2\n",
        "'''\n",
        "def powers_of_two(n):\n",
        "    for i in range(n + 1):\n",
        "        yield 2 ** i\n",
        "\n",
        "# Example usage\n",
        "for num in powers_of_two(5):\n",
        "    print(num, end=\" \")\n"
      ],
      "metadata": {
        "colab": {
          "base_uri": "https://localhost:8080/"
        },
        "id": "Ty05UTV9hg8E",
        "outputId": "786cd3fd-e5a8-4bb6-fc65-ad98fdca64e5"
      },
      "execution_count": 12,
      "outputs": [
        {
          "output_type": "stream",
          "name": "stdout",
          "text": [
            "1 2 4 8 16 32 "
          ]
        }
      ]
    },
    {
      "cell_type": "code",
      "source": [
        "'''\n",
        "7. Generator to read file line-by-line\n",
        "'''\n",
        "def read_file_lines(filename):\n",
        "    with open(filename, 'r') as file:\n",
        "        for line in file:\n",
        "            yield line.strip()\n",
        "\n",
        "# Example usage (file must exist)\n",
        "# for line in read_file_lines('example.txt'):\n",
        "#     print(line)\n"
      ],
      "metadata": {
        "id": "54YItQgghhJZ"
      },
      "execution_count": 14,
      "outputs": []
    },
    {
      "cell_type": "code",
      "source": [
        "'''\n",
        "8. Sort tuples by second element using lambda\n",
        "'''\n",
        "tuples = [(1, 3), (4, 1), (5, 2)]\n",
        "sorted_tuples = sorted(tuples, key=lambda x: x[1])\n",
        "print(sorted_tuples)  # Output: [(4, 1), (5, 2), (1, 3)]\n"
      ],
      "metadata": {
        "colab": {
          "base_uri": "https://localhost:8080/"
        },
        "id": "OfprRWVDhhUP",
        "outputId": "c965c009-aa9b-47e6-ab84-4517e49b1de0"
      },
      "execution_count": 15,
      "outputs": [
        {
          "output_type": "stream",
          "name": "stdout",
          "text": [
            "[(4, 1), (5, 2), (1, 3)]\n"
          ]
        }
      ]
    },
    {
      "cell_type": "code",
      "source": [
        "'''\n",
        "9. Use map() to convert Celsius to Fahrenheit\n",
        "'''\n",
        "celsius = [0, 10, 20, 30]\n",
        "fahrenheit = list(map(lambda c: (c * 9/5) + 32, celsius))\n",
        "print(fahrenheit)  # Output: [32.0, 50.0, 68.0, 86.0]\n"
      ],
      "metadata": {
        "colab": {
          "base_uri": "https://localhost:8080/"
        },
        "id": "ZuVQIu23hyo3",
        "outputId": "70300c93-e5be-44ea-b6f8-ddfe40f20a1e"
      },
      "execution_count": 16,
      "outputs": [
        {
          "output_type": "stream",
          "name": "stdout",
          "text": [
            "[32.0, 50.0, 68.0, 86.0]\n"
          ]
        }
      ]
    },
    {
      "cell_type": "code",
      "source": [
        "'''\n",
        "10. Remove vowels using filter()\n",
        "'''\n",
        "def remove_vowels(s):\n",
        "    return ''.join(filter(lambda x: x.lower() not in 'aeiou', s))\n",
        "\n",
        "print(remove_vowels(\"Hello World\"))  # Output: 'Hll Wrld'\n"
      ],
      "metadata": {
        "colab": {
          "base_uri": "https://localhost:8080/"
        },
        "id": "0WCd8ZlFhyvI",
        "outputId": "0b96b65b-08dc-4f5f-ab33-fa9b24f49059"
      },
      "execution_count": 17,
      "outputs": [
        {
          "output_type": "stream",
          "name": "stdout",
          "text": [
            "Hll Wrld\n"
          ]
        }
      ]
    },
    {
      "cell_type": "code",
      "source": [
        "'''\n",
        "11. Bookshop accounting using lambda and map\n",
        "'''\n",
        "orders = [\n",
        "    [34587, \"Learning Python\", 4, 40.95],\n",
        "    [98762, \"Programming Java\", 5, 56.80],\n",
        "    [77226, \"Web Dev Guide\", 3, 32.95],\n",
        "    [88112, \"DS with Python\", 3, 24.99]\n",
        "]\n",
        "\n",
        "result = list(map(\n",
        "    lambda x: (x[0], x[2]*x[3] if x[2]*x[3] >= 100 else x[2]*x[3] + 10),\n",
        "    orders\n",
        "))\n",
        "print(result)\n",
        "# Output: [(34587, 163.8), (98762, 284.0), (77226, 108.85), (88112, 84.97)]\n"
      ],
      "metadata": {
        "colab": {
          "base_uri": "https://localhost:8080/"
        },
        "id": "rk2ivf_sh8yz",
        "outputId": "a19dc389-e1f6-430a-bd10-1e8c6090f6a5"
      },
      "execution_count": 18,
      "outputs": [
        {
          "output_type": "stream",
          "name": "stdout",
          "text": [
            "[(34587, 163.8), (98762, 284.0), (77226, 108.85000000000001), (88112, 84.97)]\n"
          ]
        }
      ]
    },
    {
      "cell_type": "code",
      "source": [],
      "metadata": {
        "id": "f1kIlLjkiBr1"
      },
      "execution_count": null,
      "outputs": []
    }
  ]
}